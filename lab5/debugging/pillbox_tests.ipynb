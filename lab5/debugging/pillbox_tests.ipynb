{
 "cells": [
  {
   "cell_type": "code",
   "execution_count": 9,
   "metadata": {},
   "outputs": [],
   "source": [
    "import cv2\n",
    "import numpy as np\n",
    "import matplotlib.pyplot as plt\n",
    "\n",
    "from enum import Enum\n",
    "from typing import Any, List"
   ]
  },
  {
   "cell_type": "code",
   "execution_count": 10,
   "metadata": {},
   "outputs": [],
   "source": [
    "pillbox = np.load('pillbox.npy')\n",
    "test = np.load('test_slic.npy')\n",
    "test_line = np.load('test_line_slic.npy')"
   ]
  },
  {
   "cell_type": "code",
   "execution_count": null,
   "metadata": {},
   "outputs": [],
   "source": [
    "def detect_epsu(roi, dest_img):\n",
    "    dest_img = dest_img.copy()\n",
    "    # Na kanale b modelu Lab są dobrze wyodrębnione żółte pigułki EPSU (wyraźnie jaśniejsze od pozostałych)\n",
    "    GRAY = cv2.threshold(cv2.cvtColor(roi, cv2.COLOR_RGB2LAB)[..., 2], 167, 255, cv2.THRESH_BINARY)[1]\n",
    "    CIRCLES = cv2.HoughCircles(GRAY, cv2.HOUGH_GRADIENT, 1, 20,\n",
    "                                param1 = 30, param2 = 7,\n",
    "                                minRadius = 3, maxRadius = 25)\n",
    "\n",
    "    if CIRCLES is not None:\n",
    "        CIRCLES = np.uint16(np.around(CIRCLES))\n",
    "        for i in CIRCLES[0, :]:\n",
    "            center = (i[0], i[1])\n",
    "            cv2.circle(dest_img, center, 1, (0, 100, 100), 3)\n",
    "            radius = i[2]\n",
    "            cv2.circle(dest_img, center, radius, (255, 0, 0), 3)\n",
    "\n",
    "    return dest_img\n",
    "\n",
    "\n",
    "def detect_keto(roi, dest_img):\n",
    "    dest_img = dest_img.copy()\n",
    "    GRAY = cv2.cvtColor(roi, cv2.COLOR_RGB2HLS)[..., 2]\n",
    "    CIRCLES = cv2.HoughCircles(GRAY, cv2.HOUGH_GRADIENT, 1, 25,\n",
    "                                param1 = 30, param2 = 26,\n",
    "                                minRadius = 40, maxRadius = 50)\n",
    "\n",
    "    if CIRCLES is not None:\n",
    "        CIRCLES = np.uint16(np.around(CIRCLES))\n",
    "        for i in CIRCLES[0, :]:\n",
    "            center = (i[0], i[1])\n",
    "            cv2.circle(dest_img, center, 1, (0, 100, 100), 3)\n",
    "            radius = i[2]\n",
    "            cv2.circle(dest_img, center, radius, (0, 255, 0), 3)\n",
    "\n",
    "    return dest_img\n",
    "\n",
    "\n",
    "def detect_biox(roi, dest_img):\n",
    "    dest_img = dest_img.copy()\n",
    "    GRAY = roi[..., 0]\n",
    "    CIRCLES = cv2.HoughCircles(GRAY, cv2.HOUGH_GRADIENT, 1, 20,\n",
    "                                param1 = 5, param2 = 30,\n",
    "                                minRadius = 26, maxRadius = 33)\n",
    "\n",
    "    if CIRCLES is not None:\n",
    "        CIRCLES = np.uint16(np.around(CIRCLES))\n",
    "        for i in CIRCLES[0, :]:\n",
    "            center = (i[0], i[1])\n",
    "            cv2.circle(dest_img, center, 1, (0, 100, 100), 3)\n",
    "            radius = i[2]\n",
    "            cv2.circle(dest_img, center, radius, (255, 0, 0), 3)\n",
    "\n",
    "    return dest_img"
   ]
  }
 ],
 "metadata": {
  "kernelspec": {
   "display_name": "CV",
   "language": "python",
   "name": "python3"
  },
  "language_info": {
   "codemirror_mode": {
    "name": "ipython",
    "version": 3
   },
   "file_extension": ".py",
   "mimetype": "text/x-python",
   "name": "python",
   "nbconvert_exporter": "python",
   "pygments_lexer": "ipython3",
   "version": "3.10.15"
  }
 },
 "nbformat": 4,
 "nbformat_minor": 2
}
